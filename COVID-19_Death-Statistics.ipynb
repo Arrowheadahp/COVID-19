{
 "cells": [
  {
   "cell_type": "code",
   "execution_count": 1,
   "metadata": {},
   "outputs": [],
   "source": [
    "#!jt -t monokai -T -N -kl\n",
    "#!jt -r"
   ]
  },
  {
   "cell_type": "code",
   "execution_count": null,
   "metadata": {},
   "outputs": [],
   "source": [
    "import pandas as pd\n",
    "import matplotlib.pyplot as plt\n",
    "import datetime as dt\n",
    "import numpy as np"
   ]
  },
  {
   "cell_type": "code",
   "execution_count": null,
   "metadata": {},
   "outputs": [],
   "source": [
    "%matplotlib inline\n",
    "pd.set_option('display.max_rows', 200)\n",
    "pd.set_option('display.max_columns', 12)\n",
    "#plt.style.use('dark_background')\n",
    "plt.style.use('ggplot')"
   ]
  },
  {
   "cell_type": "code",
   "execution_count": null,
   "metadata": {},
   "outputs": [],
   "source": [
    "url_country = 'https://github.com/datasets/covid-19/raw/master/data/countries-aggregated.csv'\n",
    "country_df = pd.read_csv(url_country)[['Date', 'Country', 'Deaths']]"
   ]
  },
  {
   "cell_type": "code",
   "execution_count": null,
   "metadata": {},
   "outputs": [],
   "source": [
    "W = pd.DataFrame(country_df.groupby('Date').sum())\n",
    "W['Country'] = ['World' for _ in range(len(W))]\n",
    "W['Date'] = W.index\n",
    "country_df = country_df.append(W)"
   ]
  },
  {
   "cell_type": "code",
   "execution_count": null,
   "metadata": {},
   "outputs": [],
   "source": [
    "Deaths = pd.DataFrame()\n",
    "Deaths['Date'] = country_df.Date.unique()\n",
    "Deaths['Date'] = pd.to_datetime(Deaths.Date)\n",
    "#Deaths = Deaths.set_index('Date')"
   ]
  },
  {
   "cell_type": "code",
   "execution_count": null,
   "metadata": {},
   "outputs": [],
   "source": [
    "countries = country_df['Country'].unique()\n",
    "for c in countries:\n",
    "    cun = country_df[country_df.Country == c].Deaths\n",
    "    Deaths[c] = list(cun)\n",
    "Deaths = Deaths.set_index('Date')"
   ]
  },
  {
   "cell_type": "code",
   "execution_count": null,
   "metadata": {},
   "outputs": [],
   "source": [
    "Important_countries = ['India', 'World', #'World without China',\n",
    "                      'US', 'Germany', 'Italy', 'Spain', 'China',\n",
    "                      'United Kingdom', 'France',\n",
    "                      'Korea, South', 'Iran']#[::-1]\n",
    "colors = {'India': 'Blue', 'World': 'Blue', 'World without US': 'Green', 'US': 'Black', 'China': 'red', 'Spain': 'yellow',\n",
    "         'Italy': 'grey', 'Iran': 'brown', 'Ireland': 'violet', 'United Kingdom': 'Purple', 'Korea, South': 'Black',\n",
    "         'France': 'orange', 'Germany': 'Green'}\n",
    "def plotter(DF, name, log = True):\n",
    "    plt.figure(figsize = (14, 7))\n",
    "    if log:\n",
    "        plt.yscale('symlog')\n",
    "    if len(DF.columns)>len(Important_countries):\n",
    "        columns = Important_countries\n",
    "    else:\n",
    "        columns = DF.columns\n",
    "    for col in columns:\n",
    "        plt.plot(DF.index,\n",
    "                 DF[col],\n",
    "                 label = col,\n",
    "                 linestyle = '-.' if 'World' in col else '-',\n",
    "                 color = colors[col] if col in colors else 'pink', \n",
    "                 #alpha = 0.6\n",
    "                )\n",
    "    plt.title(name+' wrt Date in Countries')\n",
    "    plt.xlabel('Date')\n",
    "    plt.ylabel(name)\n",
    "    plt.legend()\n",
    "    plt.show()"
   ]
  },
  {
   "cell_type": "code",
   "execution_count": null,
   "metadata": {},
   "outputs": [],
   "source": [
    "def plot2(DF, DF2, name1, name2 = 'Deaths', log = True):\n",
    "    plt.figure(figsize = (14, 7))\n",
    "    if log:\n",
    "        plt.xscale('log')\n",
    "        if log == 'symlog':\n",
    "            plt.yscale('symlog')\n",
    "        else:\n",
    "            plt.yscale('log')\n",
    "    for col in Important_countries:\n",
    "        plt.plot(DF[col],\n",
    "                 DF2[col],\n",
    "                 label = col,\n",
    "                 linestyle = '-.' if 'World' in col else '-',\n",
    "                 color = colors[col] if col in colors else 'pink', \n",
    "                 #alpha = 0.6\n",
    "                )\n",
    "    plt.title(f'{name1} wrt {name2} in Countries')\n",
    "    plt.xlabel(name2)\n",
    "    plt.ylabel(name1)\n",
    "    plt.legend()\n",
    "    plt.show()"
   ]
  },
  {
   "cell_type": "code",
   "execution_count": null,
   "metadata": {},
   "outputs": [],
   "source": [
    "Deaths.tail(14)[Important_countries]"
   ]
  },
  {
   "cell_type": "code",
   "execution_count": null,
   "metadata": {
    "scrolled": false
   },
   "outputs": [],
   "source": [
    "plotter(Deaths[Important_countries].tail(50), 'Deaths')"
   ]
  },
  {
   "cell_type": "code",
   "execution_count": null,
   "metadata": {},
   "outputs": [],
   "source": [
    "plotter(Deaths[['India']], 'Deaths', False)\n",
    "#Deaths[['India']].tail(50)"
   ]
  },
  {
   "cell_type": "code",
   "execution_count": null,
   "metadata": {},
   "outputs": [],
   "source": [
    "plotter(Deaths[['Korea, South']], 'Deaths', False)"
   ]
  },
  {
   "cell_type": "code",
   "execution_count": null,
   "metadata": {},
   "outputs": [],
   "source": [
    "plotter(Deaths[['Germany']], 'Deaths', False)"
   ]
  },
  {
   "cell_type": "code",
   "execution_count": null,
   "metadata": {},
   "outputs": [],
   "source": [
    "Removed = np.round(Deaths/0.02).astype('int')\n",
    "Removed[Important_countries].tail(14)"
   ]
  },
  {
   "cell_type": "code",
   "execution_count": null,
   "metadata": {},
   "outputs": [],
   "source": [
    "Biweekly_Deaths = Deaths - Deaths.shift(14)\n",
    "Biweekly_Deaths = Biweekly_Deaths.fillna(0).astype('int')\n",
    "Biweekly_Deaths[Important_countries].tail(14)"
   ]
  },
  {
   "cell_type": "code",
   "execution_count": null,
   "metadata": {},
   "outputs": [],
   "source": [
    "plot2(Deaths, Biweekly_Deaths, 'Biweekly Deaths')"
   ]
  },
  {
   "cell_type": "code",
   "execution_count": null,
   "metadata": {},
   "outputs": [],
   "source": [
    "plotter(Biweekly_Deaths[Important_countries].tail(50), 'Biweekly Deaths')"
   ]
  },
  {
   "cell_type": "code",
   "execution_count": null,
   "metadata": {},
   "outputs": [],
   "source": [
    "# daily increase in biweekly deaths\n",
    "Increase_Biweekly = Biweekly_Deaths-Biweekly_Deaths.shift(14)\n",
    "Increase_Biweekly = Increase_Biweekly.fillna(0).astype('int')\n",
    "Increase_Biweekly[Important_countries].tail(14)"
   ]
  },
  {
   "cell_type": "code",
   "execution_count": null,
   "metadata": {},
   "outputs": [],
   "source": [
    "plotter(Increase_Biweekly, 'Increase Biweekly', False)"
   ]
  },
  {
   "cell_type": "code",
   "execution_count": null,
   "metadata": {},
   "outputs": [],
   "source": [
    "plot2(Deaths, Increase_Biweekly, 'Increase Biweekly Deaths', log = 'symlog')"
   ]
  },
  {
   "cell_type": "code",
   "execution_count": null,
   "metadata": {},
   "outputs": [],
   "source": [
    "Slope = np.round(Increase_Biweekly/Biweekly_Deaths, 4)\n",
    "Slope[Important_countries].tail(14)"
   ]
  },
  {
   "cell_type": "code",
   "execution_count": null,
   "metadata": {},
   "outputs": [],
   "source": [
    "plotter(Slope[[c for c in Important_countries if c!= 'China']].tail(50), 'Slope', True)"
   ]
  },
  {
   "cell_type": "code",
   "execution_count": null,
   "metadata": {},
   "outputs": [],
   "source": [
    "Biweekly_Growth = np.round(Biweekly_Deaths/Biweekly_Deaths.shift(14), 4)\n",
    "Biweekly_Growth[Important_countries].tail(14)"
   ]
  },
  {
   "cell_type": "code",
   "execution_count": null,
   "metadata": {},
   "outputs": [],
   "source": [
    "plotter(Biweekly_Growth[Important_countries].tail(14), 'Biweekly_Growth', True)"
   ]
  },
  {
   "cell_type": "code",
   "execution_count": null,
   "metadata": {},
   "outputs": [],
   "source": [
    "Confirmed = np.round(Removed * Biweekly_Growth)#.astype('int')\n",
    "#Confirmed = Confirmed.tail(14).astype('int')\n",
    "Confirmed[Important_countries].tail(14)"
   ]
  },
  {
   "cell_type": "code",
   "execution_count": null,
   "metadata": {},
   "outputs": [],
   "source": [
    "Daily_Deaths = Deaths-Deaths.shift(1)\n",
    "Daily_Deaths = Daily_Deaths.fillna(0).astype('int')\n",
    "Daily_Deaths[Important_countries].tail(14)"
   ]
  },
  {
   "cell_type": "code",
   "execution_count": null,
   "metadata": {},
   "outputs": [],
   "source": [
    "plot2(Deaths, Daily_Deaths, 'Daily Deaths')"
   ]
  },
  {
   "cell_type": "code",
   "execution_count": null,
   "metadata": {},
   "outputs": [],
   "source": []
  }
 ],
 "metadata": {
  "kernelspec": {
   "display_name": "Python 3",
   "language": "python",
   "name": "python3"
  },
  "language_info": {
   "codemirror_mode": {
    "name": "ipython",
    "version": 3
   },
   "file_extension": ".py",
   "mimetype": "text/x-python",
   "name": "python",
   "nbconvert_exporter": "python",
   "pygments_lexer": "ipython3",
   "version": "3.7.4"
  }
 },
 "nbformat": 4,
 "nbformat_minor": 4
}
