{
 "cells": [
  {
   "cell_type": "markdown",
   "metadata": {},
   "source": [
    "### Importing and building the plotting functions"
   ]
  },
  {
   "cell_type": "code",
   "execution_count": 1,
   "metadata": {},
   "outputs": [],
   "source": [
    "import pandas as pd\n",
    "import matplotlib.pyplot as plt\n",
    "import datetime as dt\n",
    "import numpy as np"
   ]
  },
  {
   "cell_type": "code",
   "execution_count": 2,
   "metadata": {},
   "outputs": [],
   "source": [
    "%matplotlib inline\n",
    "pd.set_option('display.max_rows', 200)\n",
    "pd.set_option('display.max_columns', 20)\n",
    "plt.style.use('fivethirtyeight')\n",
    "# plt.style.use('seaborn')"
   ]
  },
  {
   "cell_type": "code",
   "execution_count": 3,
   "metadata": {},
   "outputs": [],
   "source": [
    "def plotter(DF, name, xlabel= 'Date', scale = 'log', col = 'imp'):\n",
    "    plt.figure(figsize = (14, 7))\n",
    "    plt.yscale(scale)\n",
    "    \n",
    "    columns = DF.columns if col == 'all' else Countries[::-1]\n",
    "    for col in columns:\n",
    "        plt.plot(DF.index,\n",
    "                 DF[col],\n",
    "                 label = col if col in Countries else None,\n",
    "                 linestyle = ':' if 'World' in col else '-',\n",
    "                 color = colors[col] if col in colors else 'pink', \n",
    "                 alpha = 0.8# if col in Countries else 0.4\n",
    "                )\n",
    "    plt.title(name+' wrt Date in Countries')\n",
    "    plt.xlabel(xlabel)\n",
    "    plt.ylabel(name)\n",
    "    plt.legend(loc = 2)\n",
    "    plt.show()"
   ]
  },
  {
   "cell_type": "code",
   "execution_count": 4,
   "metadata": {},
   "outputs": [],
   "source": [
    "def plotwrtDeaths(DF2, name1, DF, name2 = 'Deaths', scale = 'log', col = 'imp'):\n",
    "    plt.figure(figsize = (14, 7))\n",
    "    plt.xscale(scale)\n",
    "    plt.yscale(scale)\n",
    "    \n",
    "#     plt.ylim(bottom=0.05, top=2*10**4)\n",
    "    \n",
    "    columns = DF.columns if col == 'all' else Countries[::-1]\n",
    "    for col in columns:\n",
    "        plt.plot(DF[col],\n",
    "                 DF2[col],\n",
    "                 label = col if col in Countries else None,\n",
    "                 linestyle = ':' if 'World' in col else '-',\n",
    "                 color = colors[col] if col in colors else 'pink', \n",
    "                 alpha = 0.8 if col in Countries else 0.4\n",
    "                )\n",
    "    plt.title(f'{name1} wrt {name2} in Countries')\n",
    "    plt.xlabel(name2)\n",
    "    plt.ylabel(name1)\n",
    "    plt.legend(loc = 2)\n",
    "    plt.show()"
   ]
  },
  {
   "cell_type": "code",
   "execution_count": 5,
   "metadata": {},
   "outputs": [],
   "source": [
    "def stackplotter(DF, name, tail=None):\n",
    "    plt.figure(figsize = (14, 7))\n",
    "    \n",
    "    if tail:\n",
    "        DF = DF.tail(tail)\n",
    "    columns = Countries[::-1]\n",
    "    columns = [t for t in columns if 'World' not in t][::-1]\n",
    "    \n",
    "    plt.stackplot(DF.index, \n",
    "                  DF[['World']].T, \n",
    "                  labels=['World'], \n",
    "                  colors=['blue'], \n",
    "                  alpha=0.2,                 \n",
    "                 )\n",
    "    \n",
    "    plt.stackplot(DF.index, \n",
    "                  DF[columns].T, \n",
    "                  labels=columns, \n",
    "                  colors=[colors[c] for c in columns], \n",
    "                  alpha=0.8,                 \n",
    "                 )\n",
    "    \n",
    "    \n",
    "    plt.title(name+' wrt Date in Countries')\n",
    "    plt.xlabel('Date')\n",
    "    plt.ylabel(name)\n",
    "    plt.legend(loc = 2)\n",
    "    plt.show()"
   ]
  },
  {
   "cell_type": "markdown",
   "metadata": {},
   "source": [
    "### Importing the Data from Johns Hopkins data"
   ]
  },
  {
   "cell_type": "code",
   "execution_count": 6,
   "metadata": {},
   "outputs": [],
   "source": [
    "data_url = 'https://raw.githubusercontent.com/CSSEGISandData/COVID-19/master/csse_covid_19_data/csse_covid_19_time_series/time_series_covid19_deaths_global.csv'\n",
    "DF = pd.read_csv(data_url)"
   ]
  },
  {
   "cell_type": "code",
   "execution_count": 7,
   "metadata": {},
   "outputs": [],
   "source": [
    "DF = DF.groupby('Country/Region').sum()\n",
    "DF = DF.drop(columns = ['Lat', 'Long']).transpose()\n",
    "DF['World'] = DF.sum(axis = 1)\n",
    "DF = DF.rename(columns = {'United Kingdom': 'UK', 'Korea, South': 'S.Korea', 'Country/Region': 'Date'})\n",
    "DF.index = pd.to_datetime(DF.index, format = '%m/%d/%y')\n",
    "# DF.index.rename('Date', inplace = True)\n",
    "\n",
    "Deaths = DF.copy()"
   ]
  },
  {
   "cell_type": "code",
   "execution_count": null,
   "metadata": {},
   "outputs": [],
   "source": [
    "data_url = 'https://raw.githubusercontent.com/CSSEGISandData/COVID-19/master/csse_covid_19_data/csse_covid_19_time_series/time_series_covid19_confirmed_global.csv'\n",
    "DF = pd.read_csv(data_url)"
   ]
  },
  {
   "cell_type": "code",
   "execution_count": null,
   "metadata": {},
   "outputs": [],
   "source": [
    "DF = DF.groupby('Country/Region').sum()\n",
    "DF = DF.drop(columns = ['Lat', 'Long']).transpose()\n",
    "DF['World'] = DF.sum(axis = 1)\n",
    "DF = DF.rename(columns = {'United Kingdom': 'UK', 'Korea, South': 'S.Korea', 'Country/Region': 'Date'})\n",
    "DF.index = pd.to_datetime(DF.index, format = '%m/%d/%y')\n",
    "# DF.index.rename('Date', inplace = True)\n",
    "\n",
    "Confirmed = DF.copy()"
   ]
  },
  {
   "cell_type": "code",
   "execution_count": null,
   "metadata": {},
   "outputs": [],
   "source": [
    "colors = {'India': 'Blue', \n",
    "          'World': 'Blue', \n",
    "          'US': 'Black', \n",
    "          'Brazil': 'darkgreen', \n",
    "          'Mexico': 'Orange', \n",
    "          'UK': 'Purple', \n",
    "          'Italy': 'grey', \n",
    "          'Russia': 'cyan', \n",
    "          'France': 'violet', \n",
    "          'Germany': 'lime', \n",
    "          'Spain': 'teal',\n",
    "          'Colombia': 'lightgreen', \n",
    "#           'Argentina': 'Teal',\n",
    "          'Iran': 'brown', \n",
    "          'China': 'red', \n",
    "          'Peru': 'yellow'\n",
    "         }\n",
    "\n",
    "Countries = list(colors.keys())"
   ]
  },
  {
   "cell_type": "markdown",
   "metadata": {},
   "source": [
    "### Deaths"
   ]
  },
  {
   "cell_type": "code",
   "execution_count": null,
   "metadata": {},
   "outputs": [],
   "source": [
    "Deaths[Countries].tail(5)"
   ]
  },
  {
   "cell_type": "code",
   "execution_count": null,
   "metadata": {},
   "outputs": [],
   "source": [
    "plotter(Deaths, 'Deaths')"
   ]
  },
  {
   "cell_type": "markdown",
   "metadata": {},
   "source": [
    "### Confirmed Cases"
   ]
  },
  {
   "cell_type": "code",
   "execution_count": null,
   "metadata": {},
   "outputs": [],
   "source": [
    "Daily_Confirmed = np.round((Confirmed - Confirmed.shift(1))/1)\n",
    "Daily_Confirmed = Daily_Confirmed.fillna(0).astype('int')\n",
    "Daily_Confirmed[Countries].tail(5)"
   ]
  },
  {
   "cell_type": "code",
   "execution_count": null,
   "metadata": {},
   "outputs": [],
   "source": [
    "Confirmed_EWM = np.round(Daily_Confirmed.ewm(com=14).mean().astype(int))\n",
    "Confirmed_EWM[Countries].tail()"
   ]
  },
  {
   "cell_type": "code",
   "execution_count": null,
   "metadata": {},
   "outputs": [],
   "source": [
    "plotter(Confirmed, 'Confirmed')"
   ]
  },
  {
   "cell_type": "markdown",
   "metadata": {},
   "source": [
    "### Daily Deaths"
   ]
  },
  {
   "cell_type": "code",
   "execution_count": null,
   "metadata": {},
   "outputs": [],
   "source": [
    "Daily_Deaths = np.round((Deaths - Deaths.shift(1))/1)\n",
    "Daily_Deaths = Daily_Deaths.fillna(0).astype('int')\n",
    "Daily_Deaths[Countries].tail(5)"
   ]
  },
  {
   "cell_type": "markdown",
   "metadata": {},
   "source": [
    "### Exponential Weighted Mean"
   ]
  },
  {
   "cell_type": "code",
   "execution_count": null,
   "metadata": {},
   "outputs": [],
   "source": [
    "EWM = np.round(Daily_Deaths.ewm(com=7).mean(), 2)\n",
    "name = 'Exponential Weighted Mean Weekly'\n",
    "\n",
    "Weekly_Avg = np.round((Deaths - Deaths.shift(7))/7, 2)\n",
    "# name = 'Weekly Average Deaths'\n",
    "\n",
    "AVG = EWM \n",
    "# AVG = Weekly_Avg\n",
    "AVG[Countries].tail(5)"
   ]
  },
  {
   "cell_type": "code",
   "execution_count": null,
   "metadata": {},
   "outputs": [],
   "source": [
    "plotter(np.round(AVG), name)"
   ]
  },
  {
   "cell_type": "markdown",
   "metadata": {},
   "source": [
    "### Stack Plots"
   ]
  },
  {
   "cell_type": "code",
   "execution_count": null,
   "metadata": {
    "scrolled": false
   },
   "outputs": [],
   "source": [
    "plotwrtDeaths(np.round(AVG, 1), name, Deaths)"
   ]
  },
  {
   "cell_type": "code",
   "execution_count": null,
   "metadata": {},
   "outputs": [],
   "source": [
    "stackplotter(AVG, name)"
   ]
  },
  {
   "cell_type": "code",
   "execution_count": null,
   "metadata": {},
   "outputs": [],
   "source": [
    "stackplotter(AVG.divide(AVG.World, axis=0), 'Deaths Percentage')"
   ]
  },
  {
   "cell_type": "markdown",
   "metadata": {},
   "source": [
    "### Reproductivity"
   ]
  },
  {
   "cell_type": "code",
   "execution_count": null,
   "metadata": {},
   "outputs": [],
   "source": [
    "Reproductivity = np.round(EWM/EWM.shift(14), 4).clip(lower= 0.1)\n",
    "Reproductivity[EWM.shift(14) < 12] = 1"
   ]
  },
  {
   "cell_type": "code",
   "execution_count": null,
   "metadata": {},
   "outputs": [],
   "source": [
    "plotter(Reproductivity, 'RF')"
   ]
  },
  {
   "cell_type": "code",
   "execution_count": null,
   "metadata": {
    "scrolled": false
   },
   "outputs": [],
   "source": [
    "plotter(Reproductivity.tail(100), 'RF')"
   ]
  },
  {
   "cell_type": "markdown",
   "metadata": {},
   "source": [
    "### Test rate"
   ]
  },
  {
   "cell_type": "code",
   "execution_count": null,
   "metadata": {},
   "outputs": [],
   "source": [
    "# We take the mortality to be 0.5%\n",
    "\n",
    "mortality = 0.005\n",
    "\n",
    "Testrate = np.round(Confirmed_EWM/(EWM/mortality), 3)\n",
    "Testrate[EWM < 12] = None"
   ]
  },
  {
   "cell_type": "code",
   "execution_count": null,
   "metadata": {},
   "outputs": [],
   "source": [
    "plotter(Testrate.tail(100), 'Test Rate', scale= 'log')"
   ]
  },
  {
   "cell_type": "markdown",
   "metadata": {},
   "source": [
    "### Time Adjusted for starting day"
   ]
  },
  {
   "cell_type": "code",
   "execution_count": null,
   "metadata": {},
   "outputs": [],
   "source": [
    "def adjust_days(DF):\n",
    "    X = DF.copy()\n",
    "#     X.reset_index()\n",
    "    for col in DF.columns:\n",
    "        L = list(DF[Deaths[col]>5][col])\n",
    "        X[col] = L + [None for _ in range(len(X[col]) - len(L))]\n",
    "    return X.reset_index()[DF.columns]\n",
    "xlabel= 'Days from 5 Deaths'"
   ]
  },
  {
   "cell_type": "code",
   "execution_count": null,
   "metadata": {},
   "outputs": [],
   "source": [
    "RF_A = adjust_days(Reproductivity)\n",
    "plotter(RF_A.tail(100), 'Reproductivity', xlabel)"
   ]
  },
  {
   "cell_type": "code",
   "execution_count": null,
   "metadata": {},
   "outputs": [],
   "source": [
    "AVG_A = adjust_days(AVG)\n",
    "plotter(np.round(AVG_A), 'Average Deaths', xlabel)"
   ]
  },
  {
   "cell_type": "code",
   "execution_count": null,
   "metadata": {},
   "outputs": [],
   "source": [
    "Deaths_A = adjust_days(Deaths)\n",
    "plotter(Deaths_A, 'Deaths', xlabel)"
   ]
  },
  {
   "cell_type": "markdown",
   "metadata": {},
   "source": [
    "### Today's Statistics by combining the previous tables"
   ]
  },
  {
   "cell_type": "code",
   "execution_count": null,
   "metadata": {},
   "outputs": [],
   "source": [
    "LastDay_DF = pd.DataFrame()\n",
    "LastDay_DF['Country'] = Deaths.columns\n",
    "LastDay_DF = LastDay_DF.set_index('Country')\n",
    "\n",
    "D = {\n",
    "    'Deaths':Deaths,\n",
    "    'Daily_Deaths':Daily_Deaths,\n",
    "    'Weekly_Deaths': Weekly_Avg,\n",
    "    'EWM7': EWM,\n",
    "    'Reproductivity':Reproductivity,\n",
    "    'Confirmed': Confirmed, \n",
    "    'Testrate': Testrate,\n",
    "    'Confirmed_EWM': Confirmed_EWM\n",
    "    }\n",
    "for name in D:\n",
    "    LastDay_DF[name] = D[name].iloc[-1]\n",
    "LastDay_DF['Estimated(M)'] = np.round((LastDay_DF.Deaths/mortality)/1000000, 2)"
   ]
  },
  {
   "cell_type": "code",
   "execution_count": null,
   "metadata": {},
   "outputs": [],
   "source": [
    "LastDay_DF.sort_values('Deaths', ascending = False).head(12)"
   ]
  },
  {
   "cell_type": "code",
   "execution_count": null,
   "metadata": {},
   "outputs": [],
   "source": [
    "LastDay_DF.sort_values('Weekly_Deaths', ascending = False).head(12)"
   ]
  },
  {
   "cell_type": "markdown",
   "metadata": {},
   "source": [
    "### Pie Chart"
   ]
  },
  {
   "cell_type": "code",
   "execution_count": null,
   "metadata": {},
   "outputs": [],
   "source": [
    "def piechart(name='Deaths', size=12, DF=LastDay_DF):\n",
    "    plt.figure(figsize = (size, size))\n",
    "    DF = DF.sort_values(name, ascending = False)\n",
    "    \n",
    "    countries = DF.index[1:]\n",
    "    deaths = DF[name][1:].clip(0, None)\n",
    "    \n",
    "    print ('World total: ',int( DF.loc['World'][name]))\n",
    "    \n",
    "    plt.pie(deaths, \n",
    "            labels= [c +' '+ str(d) for c, d in zip(countries, deaths)], \n",
    "            startangle=90,\n",
    "            counterclock=False,\n",
    "            autopct='%1.f%%', \n",
    "#             pctdistance=0.8\n",
    "           )\n",
    "    \n",
    "    plt.title(name+' piechart for every country')"
   ]
  },
  {
   "cell_type": "code",
   "execution_count": null,
   "metadata": {},
   "outputs": [],
   "source": [
    "piechart('Deaths')"
   ]
  },
  {
   "cell_type": "code",
   "execution_count": null,
   "metadata": {},
   "outputs": [],
   "source": [
    "piechart('Weekly_Deaths')"
   ]
  },
  {
   "cell_type": "code",
   "execution_count": null,
   "metadata": {},
   "outputs": [],
   "source": [
    "piechart('Daily_Deaths')"
   ]
  },
  {
   "cell_type": "code",
   "execution_count": null,
   "metadata": {},
   "outputs": [],
   "source": [
    "print('Today\\'s Date: ', dt.datetime.now().date())"
   ]
  },
  {
   "cell_type": "code",
   "execution_count": null,
   "metadata": {},
   "outputs": [],
   "source": [
    "# Total estimated Cases: \n",
    "LastDay_DF.loc['World'].Deaths/mortality"
   ]
  },
  {
   "cell_type": "markdown",
   "metadata": {},
   "source": [
    "<p>Per Capita deaths are included in this  <a href=\"https://www.statista.com/statistics/1104709/coronavirus-deaths-worldwide-per-million-inhabitants/\" rel=\"nofollow\">Statista</a></p>"
   ]
  },
  {
   "cell_type": "code",
   "execution_count": null,
   "metadata": {},
   "outputs": [],
   "source": [
    "!git add .\n",
    "!git commit -m \"`date` update\"\n",
    "!git push origin master"
   ]
  },
  {
   "cell_type": "code",
   "execution_count": null,
   "metadata": {},
   "outputs": [],
   "source": []
  }
 ],
 "metadata": {
  "kernelspec": {
   "display_name": "Python 3",
   "language": "python",
   "name": "python3"
  },
  "language_info": {
   "codemirror_mode": {
    "name": "ipython",
    "version": 3
   },
   "file_extension": ".py",
   "mimetype": "text/x-python",
   "name": "python",
   "nbconvert_exporter": "python",
   "pygments_lexer": "ipython3",
   "version": "3.7.9"
  }
 },
 "nbformat": 4,
 "nbformat_minor": 4
}
